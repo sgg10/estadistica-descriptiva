{
 "cells": [
  {
   "cell_type": "markdown",
   "metadata": {
    "tags": [],
    "cell_id": "00000-d8dfad0c-dcf4-4172-adcd-1672a7f634f8",
    "deepnote_cell_type": "markdown"
   },
   "source": "# Medidas de dispersión\n\ncontinuamos con el dataset https://www.kaggle.com/lepchenkov/usedcarscatalog",
   "execution_count": null
  },
  {
   "outputs": [],
   "execution_count": 1,
   "cell_type": "code",
   "source": "import pandas as pd\nimport matplotlib.pyplot as plt\nimport seaborn as sns",
   "metadata": {
    "tags": [],
    "cell_id": "00001-f5b2be5d-2521-419c-9285-a173f86d38e1",
    "deepnote_to_be_reexecuted": false,
    "source_hash": "3bc44cd8",
    "execution_start": 1624824710763,
    "execution_millis": 4093,
    "deepnote_cell_type": "code"
   }
  },
  {
   "cell_type": "code",
   "source": "df = pd.read_csv(\"datasets/cars.csv\")",
   "metadata": {
    "tags": [],
    "cell_id": "00002-5069ac08-7e31-4c9a-80cc-1aa02fe18152",
    "deepnote_to_be_reexecuted": false,
    "source_hash": "4e1d1ed8",
    "execution_start": 1624824744031,
    "execution_millis": 304,
    "deepnote_cell_type": "code"
   },
   "outputs": [],
   "execution_count": 2
  },
  {
   "cell_type": "code",
   "source": "# Desviación estandar\ndf[\"price_usd\"].std()",
   "metadata": {
    "tags": [],
    "cell_id": "00003-fe7bbb8e-ebd5-4225-9cae-3b9106273f3c",
    "deepnote_to_be_reexecuted": false,
    "source_hash": "57dd2b7b",
    "execution_start": 1624824788592,
    "execution_millis": 26,
    "deepnote_cell_type": "code"
   },
   "outputs": [
    {
     "output_type": "execute_result",
     "execution_count": 3,
     "data": {
      "text/plain": "6428.1520182029035"
     },
     "metadata": {}
    }
   ],
   "execution_count": 3
  },
  {
   "cell_type": "code",
   "source": "# Rango = valor max - valor minimo\nrango = df[\"price_usd\"].max() - df[\"price_usd\"].min()\nrango",
   "metadata": {
    "tags": [],
    "cell_id": "00004-44c14e4d-06d4-4ca0-b929-89a49a6505c0",
    "deepnote_to_be_reexecuted": false,
    "source_hash": "80a827fa",
    "execution_start": 1624824854819,
    "execution_millis": 20,
    "deepnote_cell_type": "code"
   },
   "outputs": [
    {
     "output_type": "execute_result",
     "execution_count": 6,
     "data": {
      "text/plain": "49999.0"
     },
     "metadata": {}
    }
   ],
   "execution_count": 6
  },
  {
   "cell_type": "code",
   "source": "# Quartile\nmedian = df[\"price_usd\"].median()\nQ1  = df[\"price_usd\"].quantile(q=0.25)\nQ3  = df[\"price_usd\"].quantile(q=0.75)\nmin_value, max_value = df[\"price_usd\"].quantile(q=0), df[\"price_usd\"].quantile(q=1.0)\nprint(min_value, Q1, median, Q3, max_value)",
   "metadata": {
    "tags": [],
    "cell_id": "00005-89f51d50-e16e-4ea8-9c6d-233e6377ee1f",
    "deepnote_to_be_reexecuted": false,
    "source_hash": "1d25cf7d",
    "execution_start": 1624825060285,
    "execution_millis": 56,
    "deepnote_cell_type": "code"
   },
   "outputs": [
    {
     "name": "stdout",
     "text": "1.0 2100.0 4800.0 8990.0 50000.0\n",
     "output_type": "stream"
    }
   ],
   "execution_count": 7
  },
  {
   "cell_type": "code",
   "source": "iqr = Q3 - Q1\niqr",
   "metadata": {
    "tags": [],
    "cell_id": "00006-7caf2ad9-d10f-48bc-8b8b-3bf20f528b01",
    "deepnote_to_be_reexecuted": false,
    "source_hash": "7e09e3cb",
    "execution_start": 1624825107105,
    "execution_millis": 6,
    "deepnote_cell_type": "code"
   },
   "outputs": [
    {
     "output_type": "execute_result",
     "execution_count": 8,
     "data": {
      "text/plain": "6890.0"
     },
     "metadata": {}
    }
   ],
   "execution_count": 8
  },
  {
   "cell_type": "markdown",
   "source": "### Límites para detección de outliers (datos simetricamente distribuidos)\n\nDatos entre $$Q_1 -1.5 \\times \\text{IQR}$$ y $$Q_3 + 1.5 \\times \\text{IQR}$$",
   "metadata": {
    "tags": [],
    "cell_id": "00007-22f8ea44-4312-4846-8a97-c065782b349e",
    "deepnote_cell_type": "markdown"
   },
   "outputs": [],
   "execution_count": null
  },
  {
   "outputs": [
    {
     "name": "stdout",
     "text": "-8235.0 19325.0\n",
     "output_type": "stream"
    }
   ],
   "execution_count": 11,
   "cell_type": "code",
   "source": "min_limit = Q1 - 1.5*iqr\nmax_limit = Q3 + 1.5*iqr\nprint(min_limit, max_limit)",
   "metadata": {
    "tags": [],
    "cell_id": "00008-42183e61-0576-4d13-a7a0-72231463663a",
    "deepnote_to_be_reexecuted": false,
    "source_hash": "a2546ba4",
    "execution_start": 1624825190485,
    "execution_millis": 10,
    "deepnote_cell_type": "code"
   }
  },
  {
   "cell_type": "code",
   "source": "sns.histplot(df[\"price_usd\"])",
   "metadata": {
    "tags": [],
    "cell_id": "00009-ad877d70-6286-4c1b-87b9-360a5570f375",
    "deepnote_to_be_reexecuted": false,
    "source_hash": "f20148c0",
    "execution_start": 1624825234646,
    "execution_millis": 831,
    "deepnote_cell_type": "code"
   },
   "outputs": [
    {
     "output_type": "execute_result",
     "execution_count": 12,
     "data": {
      "text/plain": "<AxesSubplot:xlabel='price_usd', ylabel='Count'>"
     },
     "metadata": {}
    },
    {
     "data": {
      "text/plain": "<Figure size 432x288 with 1 Axes>",
      "image/png": "[encoded data removed]"
     },
     "metadata": {
      "needs_background": "light",
      "image/png": {
       "width": 395,
       "height": 263
      }
     },
     "output_type": "display_data"
    }
   ],
   "execution_count": 12
  },
  {
   "cell_type": "code",
   "source": "sns.boxplot(df[\"price_usd\"])",
   "metadata": {
    "tags": [],
    "cell_id": "00010-8d942e78-dfa4-4e22-be13-ca95943578ea",
    "deepnote_to_be_reexecuted": false,
    "source_hash": "5a46e2c9",
    "execution_start": 1624825265504,
    "execution_millis": 230,
    "deepnote_cell_type": "code"
   },
   "outputs": [
    {
     "name": "stderr",
     "text": "/shared-libs/python3.7/py/lib/python3.7/site-packages/seaborn/_decorators.py:43: FutureWarning: Pass the following variable as a keyword arg: x. From version 0.12, the only valid positional argument will be `data`, and passing other arguments without an explicit keyword will result in an error or misinterpretation.\n  FutureWarning\n",
     "output_type": "stream"
    },
    {
     "output_type": "execute_result",
     "execution_count": 13,
     "data": {
      "text/plain": "<AxesSubplot:xlabel='price_usd'>"
     },
     "metadata": {}
    },
    {
     "data": {
      "text/plain": "<Figure size 432x288 with 1 Axes>",
      "image/png": "[encoded data removed]"
     },
     "metadata": {
      "needs_background": "light",
      "image/png": {
       "width": 353,
       "height": 263
      }
     },
     "output_type": "display_data"
    }
   ],
   "execution_count": 13
  },
  {
   "cell_type": "code",
   "source": "sns.boxplot(x=\"engine_fuel\", y=\"price_usd\", data=df)",
   "metadata": {
    "tags": [],
    "cell_id": "00011-88d9f1d1-1833-4d3b-b94a-d1a169ffe358",
    "deepnote_to_be_reexecuted": false,
    "source_hash": "c023609c",
    "execution_start": 1624825346252,
    "execution_millis": 668,
    "deepnote_cell_type": "code"
   },
   "outputs": [
    {
     "output_type": "execute_result",
     "execution_count": 14,
     "data": {
      "text/plain": "<AxesSubplot:xlabel='engine_fuel', ylabel='price_usd'>"
     },
     "metadata": {}
    },
    {
     "data": {
      "text/plain": "<Figure size 432x288 with 1 Axes>",
      "image/png": "[encoded data removed]"
     },
     "metadata": {
      "needs_background": "light",
      "image/png": {
       "width": 402,
       "height": 263
      }
     },
     "output_type": "display_data"
    }
   ],
   "execution_count": 14
  },
  {
   "cell_type": "code",
   "source": "df[\"price_usd\"].describe()",
   "metadata": {
    "tags": [],
    "cell_id": "00012-53bbcd0f-d9d6-434a-9c4d-287f38a2972a",
    "deepnote_to_be_reexecuted": false,
    "source_hash": "40cab10e",
    "execution_start": 1624825600339,
    "execution_millis": 36,
    "deepnote_cell_type": "code"
   },
   "outputs": [
    {
     "output_type": "execute_result",
     "execution_count": 15,
     "data": {
      "text/plain": "count    38531.000000\nmean      6639.971021\nstd       6428.152018\nmin          1.000000\n25%       2100.000000\n50%       4800.000000\n75%       8990.000000\nmax      50000.000000\nName: price_usd, dtype: float64"
     },
     "metadata": {}
    }
   ],
   "execution_count": 15
  },
  {
   "cell_type": "code",
   "source": "",
   "metadata": {
    "tags": [],
    "cell_id": "00013-50ba8b77-7355-4df0-8d32-bc67df278ffa",
    "deepnote_cell_type": "code"
   },
   "outputs": [],
   "execution_count": null
  },
  {
   "cell_type": "markdown",
   "source": "<a style='text-decoration:none;line-height:16px;display:flex;color:#5B5B62;padding:10px;justify-content:end;' href='https://deepnote.com?utm_source=created-in-deepnote-cell&projectId=612887ed-27df-4380-833b-1765cb5a55f0' target=\"_blank\">\n<img alt='Created in deepnote.com' style='display:inline;max-height:16px;margin:0px;margin-right:7.5px;' src='data:image/svg+xml;base64,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' > </img>\nCreated in <span style='font-weight:600;margin-left:4px;'>Deepnote</span></a>",
   "metadata": {
    "tags": [],
    "created_in_deepnote_cell": true,
    "deepnote_cell_type": "markdown"
   }
  }
 ],
 "nbformat": 4,
 "nbformat_minor": 2,
 "metadata": {
  "orig_nbformat": 2,
  "deepnote": {
   "is_reactive": false
  },
  "deepnote_notebook_id": "c725621a-8d5a-4bdf-808c-5179cde52976",
  "deepnote_execution_queue": []
 }
}